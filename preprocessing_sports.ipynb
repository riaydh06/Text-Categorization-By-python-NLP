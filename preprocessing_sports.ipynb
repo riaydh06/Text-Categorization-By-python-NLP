{
 "cells": [
  {
   "cell_type": "code",
   "execution_count": 3,
   "metadata": {
    "collapsed": false
   },
   "outputs": [
    {
     "name": "stdout",
     "output_type": "stream",
     "text": [
      "['claxton', 'hunt', 'first', 'major', 'medal', 'british', 'hurdler', 'sarah', 'claxton', 'confid', 'win', 'first', 'major', 'medal', 'next', 'european', 'indoor', 'championship', 'the', 'alreadi', 'smash', 'british', 'record', '60m', 'hurdl', 'twice', 'set', 'new', 'mark', 'second', 'win', 'aaa', 'quit', 'said', 'take', 'race', 'long', 'keep', 'train', 'much', 'think', 'chanc', 'claxton', 'won', 'nation', '60m', 'hurdl', 'titl', 'past', 'three', 'year', 'struggl', 'translat', 'domest', 'success', 'intern', 'athlet', 'own', 'equal', 'time', 'world', 'and', 'last', 'birmingham', 'grand', 'claxton', 'left', 'european', 'medal', 'favourit', 'russian', 'irina', 'shevchenko', 'trail', 'sixth', 'for', 'first', 'claxton', 'prepar', 'campaign', 'hurdl', 'could', 'explain', 'leap', 'previou', 'also', 'contest', 'long', 'jump', 'sinc', 'move', 'colchest', 'london', 'claxton', 'see', 'new', 'train', 'regim', 'pay', 'dividend', 'european', 'indoor', 'take', 'place', 'could', 'run', 'world', 'sonia', 'indic', 'would', 'like', 'particip', 'next', 'world', 'cross', 'countri', 'championship', 'athlet', 'ireland', 'hint', 'cobh', 'runner', 'may', 'includ', 'offici', 'event', 'franc', 'provinci', 'team', 'select', 'last', 'nation', 'santri', 'offici', 'announc', 'present', 'prepar', 'london', 'marathon', 'the', 'particip', 'currentili', 'train', 'base', 'would', 'boost', 'ireland', 'team', 'won', 'bronz', 'three', 'year', 'the', 'first', 'three', 'santri', 'last', 'jolen', 'maria', 'mccambridg', 'fionnualla', 'automat', 'select', 'like', 'form', 'part', 'also', 'take', 'part', 'bupa', 'great', 'ireland', 'run', 'april', 'green', 'set', 'sight', 'world', 'titl', 'mauric', 'green', 'aim', 'wipe', 'pain', 'lose', 'olymp', '100m', 'titl', 'athen', 'win', 'fourth', 'world', 'championship', 'crown', 'settl', 'bronz', 'greec', 'behind', 'fellow', 'american', 'justin', 'gatlin', 'franci', 'obikwelu', 'realli', 'hurt', 'look', 'lost', 'thing', 'said', 'race', 'birmingham', 'never', 'go', 'happen', 'goal', 'go', 'win', 'green', 'cross', 'line', 'second', 'behind', 'won', 'second', 'one', 'closest', 'fastest', 'sprint', 'but', 'green', 'believ', 'lost', 'race', 'titl', 'won', 'race', 'conserv', 'franci', 'obikwelu', 'came', 'took', 'third', 'know', 'believ', 'put', 'lane', 'seven', 'final', 'lane', 'feel', 'anyth', 'felt', 'like', 'run', 'believ', 'middl', 'race', 'would', 'abl', 'react', 'peopl', 'came', 'ahead', 'green', 'also', 'deni', 'olymp', 'gold', '4x100m', 'relay', 'could', 'catch', 'mark', 'final', 'the', 'kansa', 'star', 'set', 'norwich', 'union', 'grand', 'the', 'pair', 'contest', 'distanc', 'green', 'current', 'hold', 'world', 'record', 'anoth', 'indoor', 'meet', 'franc', 'resum', 'train', 'outdoor', 'season', 'task', 'recaptur', 'world', 'titl', 'helsinki', 'green', 'believ', 'gatlin', 'prove', 'biggest', 'threat', 'ambit', 'but', 'also', 'admit', 'face', 'one', 'rival', 'world', 'alway', 'someon', 'els', 'think', 'come', 'would', 'say', 'ato', 'young', 'green', 'got', 'five', 'six', 'young', 'guy', 'come', 'iaaf', 'launch', 'fight', 'drug', 'the', 'iaaf', 'world', 'govern', 'bodi', 'met', 'coach', 'athlet', 'fight', 'drug', 'two', 'task', 'forc', 'set', 'examin', 'dope', 'nutrit', 'also', 'agre', 'programm', 'issu', 'public', 'media', 'decid', 'chang', 'thing', 'forum', 'stakehold', 'allow', 'express', 'said', 'iaaf', 'everyon', 'togeth', 'gave', 'lot', 'food', 'about', 'peopl', 'attend', 'meet', 'includ', 'iaaf', 'chief', 'lamin', 'diack', 'namibian', 'athlet', 'franki', 'member', 'happi', 'see', 'member', 'athlet', 'respond', 'posit', 'iaaf', 'call', 'sit', 'togeth', 'discuss', 'fight', 'said', 'lead', 'feder', 'field', 'duti', 'keep', 'sport', 'the', 'two', 'task', 'forc', 'report', 'back', 'iaaf', 'april', 'meet', 'dibaba', 'break', 'world', 'record', 'tirunesh', 'dibaba', 'set', 'new', 'world', 'record', 'win', 'boston', 'indoor', 'dibaba', 'won', 'minut', 'second', 'eras', 'previou', 'world', 'indoor', 'mark', 'set', 'anoth', 'berhan', 'stuttgart', 'last', 'but', 'compatriot', 'kenenisa', 'record', 'hope', 'dash', 'miscount', 'lap', 'stage', 'sprint', 'finish', 'lap', 'alistair', 'cragg', 'won', 'bekel', 'battl', 'second', 'want', 'sit', 'back', 'get', 'said', 'kept', 'the', 'plan', '500m', 'matter', 'bekel', 'made', 'mistak', 'the', 'race', 'carolina', 'olymp', 'heptathlon', 'jolanda', 'ceplak', 'win', 'kluft', 'took', 'long', 'jump', 'ceplak', 'easili', 'won', '800m', 'isinbayeva', 'claim', 'new', 'world', 'best', 'pole', 'vaulter', 'yelena', 'isinbayeva', 'broke', 'indoor', 'world', 'record', 'clear', 'metr', 'lievin', '12th', 'world', 'record', 'career', 'came', 'day', 'clear', 'norwich', 'union', 'grand', 'prix', 'the', 'olymp', 'champion', 'went', 'attempt', 'meet', 'franc', 'fail', 'clear', 'former', 'olymp', '100m', 'champion', 'mauric', 'green', 'could', 'finish', 'second', 'leonard', 'second', 'consecut', 'defeat', 'hand', 'fellow', 'also', 'won', 'birmingham', 'last', 'ran', 'race', 'said', 'won', 'best', 'time', 'happi', 'even', 'know', 'mauric', 'long', 'way', 'peak', 'start', 'commit', 'dublin', 'race', 'sonia', 'seek', 'regain', 'titl', 'bupa', 'great', 'ireland', 'run', 'april', 'the', 'beaten', 'fourth', 'last', 'won', 'year', 'understand', 'solid', 'train', 'australia', 'recov', 'minor', 'said', 'race', 'director', 'matthew', 'mark', 'irish', 'record', 'holder', '5km', 'make', 'debut', 'mass', 'particip', '10km', 'carrol', 'step', 'form', 'recent', 'week', 'late', 'januari', 'score', 'impress', 'victori', 'lead', 'american', 'alan', 'webb', 'carrol', 'face', 'stiff', 'competit', 'australian', 'craig', 'winner', 'dublin', 'last', 'two', 'hansen', 'return', 'british', 'tripl', 'jumper', 'ashia', 'hansen', 'rule', 'comeback', 'year', 'setback', 'recoveri', 'bad', 'knee', 'accord', 'commonwealth', 'european', 'sidelin', 'sinc', 'european', 'cup', 'poland', 'june', 'hope', 'would', 'abl', 'return', 'wound', 'injuri', 'slow', 'her', 'coach', 'aston', 'moor', 'told', 'look', 'sooner', 'tripl', 'moor', 'said', 'hansen', 'may', 'abl', 'return', 'sprint', 'long', 'jump', 'prospect', 'involv', 'specialist', 'problem', 'wound', 'heal', 'set', 'back', 'rehabilit', 'two', 'solv', 'push', 'ahead', 'aim', 'get', 'fit', 'athlet', 'start', 'look', 'sprint', 'long', 'jump', 'introduct', 'back', 'competit', 'moor', 'said', 'confid', 'hansen', 'make', 'back', 'though', 'unclear', 'time', 'commonwealth', 'game', 'melbourn', 'next', 'frustrat', 'time', 'faze', 'garden', 'storm', 'win', 'jason', 'garden', 'shook', 'upset', 'stomach', 'win', '60m', 'leipzig', 'intern', 'garden', 'clock', 'second', 'equal', 'meet', 'record', 'finish', 'well', 'ahead', 'marc', 'cross', 'line', 'the', 'world', 'indoor', 'champion', 'got', 'airport', 'stomach', 'upset', 'almost', 'went', 'felt', 'littl', 'better', 'sunday', 'morn', 'decid', 'run', 'main', 'then', 'everyth', 'went', 'part', 'great', 'britain', '4x100m', 'quartet', 'won', 'gold', 'athen', 'turn', 'attent', 'next', 'norwich', 'union', 'european', 'indoor', 'trial', 'still', 'know', 'plenti', 'tank', 'expect', 'get', 'faster', 'next', 'case', 'chip', 'away', 'done', 'previou', 'year', 'result', 'ian', 'macki', 'also', 'action', 'step', 'favour', '400m', '200m', 'finish', 'third', 'alexand', 'kosenkow', 'won', 'race', 'sec', 'dutchman', 'patrick', 'van', 'balkom', 'second', 'there', 'plenti', 'senior', 'british', 'athlet', 'show', 'indoor', 'form', 'promis', '60m', 'hurdler', 'clock', 'new', 'record', 'second', 'meet', 'the', 'reach', 'mark', 'heat', 'settl', 'joint', 'first', 'place', 'former', 'aaa', 'champion', 'dian', 'allahgreen', 'broke', 'onto', 'intern', 'scene', 'olymp', 'game', 'last', 'set', 'indoor', 'person', 'best', 'tripl', 'jump', 'meet', 'that', 'leap', '37cm', 'short', 'brazilian', 'winner', 'jadel', 'effort', 'good', 'enough', 'qualifi', 'european', 'indoor', 'finish', 'third', 'second', 'the', 'event', 'won', 'european', 'medal', 'favourit', 'christin', 'arron', 'franc', 'belgium', 'rival', 'kim', 'gevaert', 'joic', 'maduaka', 'finish', 'fifth', 'olymp', 'bronz', 'heptathlon', 'medallist', 'made', 'return', 'action', 'indoor', 'meet', 'the', 'clear', 'win', 'high', 'jump', 'threw', 'shot', 'collin', 'compet', 'birmingham', 'world', 'commonwealth', '100m', 'champion', 'kim', 'collin', 'compet', '60m', 'norwich', 'union', 'grand', 'prix', 'birmingham', 'the', 'kitt', 'nevi', 'star', 'join', 'british', 'olymp', 'relay', 'gold', 'medallist', 'jason', 'garden', 'mark', 'sydney', 'olymp', '100m', 'champion', 'world', 'indoor', 'record', 'holder', 'mauric', 'green', 'athen', 'olymp', '100m', 'silver', 'medallist', 'franci', 'obikwelu', 'also', 'take', 'collin', 'ran', 'birmingham', 'world', 'indoor', 'look', 'forward', 'compet', 'strong', 'got', 'great', 'recept', 'form', 'crowd', 'nia', 'won', '60m', 'world', 'indoor', 'silver', 'medal', 'realli', 'excit', 'return', 'the', 'world', 'champion', 'say', 'good', 'shape', 'underestim', 'home', 'garden', 'mark', 'olymp', 'gold', 'medallist', 'sure', 'aim', 'win', 'front', 'home', 'look', 'forward', 'compet', 'best', 'sprinter', 'sure', 'metr', 'one', 'excit', 'race', 'collin', 'sixth', 'olymp', 'final', 'athen', 'hope', 'better', 'result', 'world', 'championship', 'finland', 'big', 'year', 'plan', 'defend', '100m', 'world', 'titl', 'helsinki', 'befor', 'i', 'want', 'perform', 'well', '60m', 'indoor', 'start', 'year', 'win']\n"
     ]
    }
   ],
   "source": [
    "import re\n",
    "import nltk\n",
    "from nltk.tokenize import word_tokenize,sent_tokenize\n",
    "from nltk.corpus import stopwords\n",
    "from nltk.stem.lancaster import LancasterStemmer\n",
    "from nltk.stem import PorterStemmer\n",
    "from collections import Counter\n",
    "from collections import defaultdict\n",
    "import os\n",
    "import os.path\n",
    "\n",
    "st=PorterStemmer()\n",
    "path = 'C:\\\\Users\\\\ret\\\\sport_1' \n",
    "files = os.listdir(path)\n",
    "os.chdir(path)\n",
    "files_txt = [i for i in files if i.endswith('.txt')]\n",
    "a=[]\n",
    "#print (len(files_txt))\n",
    "for x in range(0,len(files_txt)):\n",
    "        MyFile=open(files_txt[x],'r')\n",
    "        for y in MyFile.read().split():\n",
    "            a+=[y]\n",
    "\n",
    "read_data=filter(str.isalnum,a) \n",
    "stop_words=set(stopwords.words(\"english\"))\n",
    "#filtered_sentence=[]word_list\n",
    "filtered_sentence=[w for w in read_data if not w in stop_words]\n",
    "\n",
    "save_path = 'C:\\\\Users\\\\ret'\n",
    "os.chdir(save_path)\n",
    "fh1=open(\"sports_corpus_1.txt\",\"w\")\n",
    "#a=[]\n",
    "    \n",
    "filtered_sentence=[item.lower() for item in filtered_sentence]\n",
    "filtered_sentence=[x for x in filtered_sentence if not x.isdigit()]\n",
    "    \n",
    "    \n",
    "for words in filtered_sentence:\n",
    "    if ( len(words)==1 ) :\n",
    "        filtered_sentence.remove(words)\n",
    "for x in filtered_sentence:\n",
    "    if ( len(x)==2 ) :\n",
    "        filtered_sentence.remove(x)\n",
    "        \n",
    "filtered_sentence=[st.stem(f) for f in filtered_sentence]  \n",
    "for w in  filtered_sentence:\n",
    "    fh1.write(w+' ')\n",
    "print((filtered_sentence) )   "
   ]
  },
  {
   "cell_type": "code",
   "execution_count": 1,
   "metadata": {
    "collapsed": false
   },
   "outputs": [
    {
     "name": "stdout",
     "output_type": "stream",
     "text": [
      "['chepkemei', 'hit', 'big', 'ban', 'athlet', 'bodi', 'suspend', 'london', 'marathon', 'susan', 'chepkemei', 'competit', 'end', 'athlet', 'kenya', 'issu', 'ban', 'chepkemei', 'fail', 'turn', 'cross', 'countri', 'train', 'camp', 'ban', 'local', 'intern', 'said', 'chief', 'isaiah', 'shall', 'commun', 'decis', 'iaaf', 'meet', 'director', 'the', 'finish', 'second', 'paula', 'radcliff', 'london', 'also', 'edg', 'epic', 'new', 'york', 'marathon', 'contest', 'last', 'but', 'ban', 'prevent', 'world', 'silver', 'medallist', 'challeng', 'radcliff', 'london', 'event', 'global', 'sport', 'manag', 'said', 'want', 'run', 'world', 'cross', 'countri', 'championship', 'but', 'maintain', 'make', 'exampl', 'chepkemei', 'warn', 'kenyan', 'take', 'action', 'order', 'salvag', 'said', 'accus', 'teeth', 'bite', 'agent', 'rule', 'also', 'threaten', 'champion', 'edith', 'masai', 'similar', 'ban', 'report', 'feign', 'injuri', 'avoid', 'run', 'cross', 'countri', 'world', 'championship', 'masai', 'miss', 'nation', 'trial', 'earli', 'includ', 'provision', 'team', 'proviso', 'ran', 'region', 'she', 'fail', 'run', 'cite', 'leg', 'holm', 'secur', 'comeback', 'victori', 'kelli', 'holm', 'mark', 'first', 'appear', 'home', 'soil', 'sinc', 'win', 'doubl', 'olymp', 'gold', '1500m', 'victori', 'norwich', 'union', 'holm', 'hit', 'front', 'bell', 'front', 'crowd', 'glasgow', 'cruis', 'victori', 'time', 'four', 'minut', 'nice', 'get', 'nervou', 'whether', 'would', 'actual', 'abl', 'get', 'felt', 'relax', 'use', 'race', 'said', 'win', 'front', 'home', 'the', 'time', 'got', 'round', 'one', 'piec', 'disgrac', 'now', 'go', 'recept', 'sinc', 'olymp', 'amaz', 'want', 'keep', 'run', 'get', 'buzz', 'holm', 'ran', 'tactic', 'perfect', 'race', 'finish', 'clear', 'hind', 'dehiba', 'svetlana', 'the', 'olymp', '800m', '1500m', 'time', 'insid', 'qualifi', 'mark', 'european', 'indoor', 'championship', 'madrid', 'but', 'would', 'reveal', 'whether', 'intend', 'run', 'previous', 'indic', 'would', 'leav', 'decis', 'birmingham', 'grand', 'prix', 'greek', 'pair', 'attend', 'drug', 'hear', 'greek', 'sprinter', 'kosta', 'kenteri', 'katerina', 'thanou', 'appear', 'independ', 'tribun', 'decid', 'ban', 'they', 'given', 'provision', 'suspens', 'rule', 'bodi', 'iaaf', 'decemb', 'fail', 'take', 'drug', 'test', 'athen', 'the', 'pair', 'arriv', 'former', 'coach', 'christo', 'tzeko', 'give', 'evid', 'hellen', 'olymp', 'decis', 'expect', 'announc', 'end', 'whatev', 'parti', 'right', 'appeal', 'court', 'arbitr', 'yianni', 'head', 'greek', 'olymp', 'team', 'athen', 'game', 'last', 'also', 'testifi', 'along', 'greek', 'sport', 'offici', 'believ', 'tribun', 'reach', 'decis', 'uphold', 'stand', 'said', 'athlet', 'must', 'forget', 'offer', 'great', 'kenteri', 'won', '200m', 'gold', 'sydney', 'thanou', 'won', 'silver', 'they', 'withdrew', 'athen', 'game', 'last', 'august', 'miss', 'drug', 'test', 'eve', 'open', 'the', 'pair', 'spent', 'four', 'day', 'claim', 'injur', 'motorcycl', 'the', 'assembl', 'hellen', 'associ', 'amateur', 'also', 'examin', 'alleg', 'kenteri', 'thanou', 'avoid', 'test', 'tel', 'aviv', 'chicago', 'tzeko', 'also', 'ban', 'two', 'year', 'face', 'charg', 'assist', 'use', 'prohibit', 'substanc', 'tamper', 'dope', 'inspect', 'all', 'repeatedli', 'deni', 'also', 'charg', 'greek', 'prosecutor', 'face', 'trial', 'trial', 'date', 'impos', 'suspens', 'duo', 'iaaf', 'describ', 'explan', 'miss', 'test', 'but', 'lawyer', 'gregori', 'ioannidi', 'told', 'bbc', 'sport', 'earlier', 'week', 'confid', 'sprinter', 'would', 'clear', 'charg', 'fail', 'give', 'inform', 'locat', 'refus', 'submit', 'refut', 'charg', 'unsubstanti', 'certain', 'breach', 'correct', 'applic', 'rule', 'behalf', 'sport', 'author', 'procedur', 'breach', 'also', 'violat', 'also', 'evid', 'prove', 'fact', 'client', 'chepkemei', 'join', 'edinburgh', 'susan', 'chepkemei', 'decid', 'fit', 'enough', 'run', 'next', 'great', 'edinburgh', 'intern', 'cross', 'the', 'kenyan', 'initi', 'unsur', 'would', 'recov', 'gruell', 'tussl', 'paula', 'radcliff', 'new', 'york', 'marathon', 'time', 'but', 'declar', 'task', 'join', 'field', 'head', 'world', 'cross', 'countri', 'champion', 'benita', 'race', 'director', 'matthew', 'turnbul', 'add', 'even', 'strength', 'depth', 'line', 'won', 'six', 'kilometr', 'event', 'three', 'year', 'ago', 'stage', 'endur', 'epic', 'battl', 'radcliff', 'big', 'appl', 'briton', 'outsprint', 'final', 'tirunesh', 'dibaba', 'ethiopia', 'defend', 'titl', 'won', 'last', 'year', 'tynesid', 'race', 'move', 'north', 'european', 'cross', 'countri', 'champion', 'briton', 'hayley', 'yell', 'also', 'compet', 'edinburgh', 'scot', 'kathi', 'guerrouj', 'target', 'cross', 'countri', 'doubl', 'olymp', 'champion', 'hicham', 'guerrouj', 'set', 'make', 'rare', 'appear', 'world', 'cross', 'countri', 'championship', 'but', 'race', 'cross', 'countri', 'decid', 'two', 'week', 'event', 'start', 'compet', 'feel', 'said', 'retir', 'much', 'point', 'guerrouj', 'achiev', 'lifetim', 'ambit', 'last', 'august', 'clinch', 'first', 'olymp', 'titl', '1500m', 'but', 'world', '1500m', 'champion', 'still', 'hungri', 'success', 'call', 'time', 'the', 'set', 'sight', 'clinch', 'world', 'crown', 'helsinki', 'and', 'aim', 'break', 'olymp', 'champion', 'kenenisa', 'world', 'guerrouj', 'could', 'meet', 'bekel', 'march', 'ethiopian', 'defend', 'world', 'cross', 'countri', 'champion', 'long', 'short', 'but', 'moroccan', 'commit', 'galmier', 'event', 'assess', 'well', 'winter', 'train', 'return', 'train', 'difficult', 'accept', 'lot', 'invit', 'past', 'said', 'almost', 'month', 'behind', 'right', 'paula', 'radcliff', 'also', 'rule', 'compet', 'world', 'cross', 'countri', 'quit', 'decid', 'event', 'compet', 'prior', 'london', 'world', 'cross', 'countri', 'event', 'also', 'special', 'definit', 'said', 'jone', 'dope', 'probe', 'begin', 'investig', 'dope', 'claim', 'marion', 'jone', 'open', 'intern', 'olymp', 'ioc', 'presid', 'jacqu', 'rogg', 'set', 'disciplinari', 'bodi', 'look', 'claim', 'victor', 'balco', 'say', 'could', 'lose', 'olymp', 'medal', 'cont', 'said', 'gave', 'drug', 'sydney', 'but', 'rogg', 'said', 'earli', 'specul', 'hope', 'truth', 'ani', 'decis', 'medal', 'would', 'taken', 'execut', 'board', 'could', 'hing', 'interpret', 'rule', 'state', 'olymp', 'decis', 'challeng', 'within', 'three', 'year', 'game', 'the', 'sydney', 'olymp', 'end', 'four', 'year', 'world', 'agenc', 'chief', 'dick', 'pound', 'said', 'rule', 'may', 'appli', 'alleg', 'come', 'find', 'way', 'deal', 'pound', 'statement', 'releas', 'attorney', 'rich', 'jone', 'repeat', 'innoc', 'vow', 'would', 'alleg', 'true', 'truth', 'reveal', 'world', 'see', 'legal', 'process', 'move', 'someon', 'feder', 'indict', 'record', 'issu', 'inconsist', 'strachan', 'turn', 'pompey', 'former', 'southampton', 'manag', 'gordon', 'strachan', 'reject', 'chanc', 'becom', 'new', 'the', 'scot', 'pompey', 'chairman', 'milan', 'first', 'choic', 'replac', 'harri', 'left', 'fratton', 'park', 'rival', 'saint', 'earlier', 'think', 'fantast', 'job', 'anybodi', 'apart', 'somebodi', 'southampton', 'strachan', 'told', 'club', 'director', 'terri', 'bradi', 'held', 'initi', 'talk', 'strachan', 'the', 'former', 'scotland', 'intern', 'ad', 'join', 'local', 'rival', 'would', 'wise', 'got', 'everyth', 'go', 'got', 'mani', 'memori', 'side', 'want', 'sour', 'right', 'minut', 'good', 'player', 'good', 'good', 'atmospher', 'lot', 'right', 'somebodi', 'southampton', 'sinc', 'execut', 'director', 'velimir', 'zajec', 'coach', 'joe', 'jordan', 'overseen', 'the', 'duo', 'gone', 'five', 'match', 'unbeaten', 'defeat', 'home', 'champion', 'club', 'still', 'respect', '12th', 'place', 'premiership', 'strachan', 'left', 'earlier', 'announc', 'intent', 'take', 'break', 'game', 'end', 'hi', 'previou', 'manageri', 'experi', 'came', 'led', 'five', 'year', 'newcastl', 'join', 'morient', 'race', 'newcastl', 'join', 'race', 'sign', 'real', 'madrid', 'striker', 'fernando', 'morient', 'scupper', 'bid', 'snap', 'accord', 'liverpool', 'report', 'bid', 'spanish', 'intern', 'but', 'liverpool', 'echo', 'newspap', 'said', 'anfield', 'boss', 'rafa', 'benitez', 'avoid', 'bid', 'war', 'instead', 'turn', 'attent', 'nicola', 'real', 'believ', 'still', 'want', 'sell', 'monaco', 'also', 'race', 'player', 'loan', 'last', 'report', 'suggest', 'liverpool', 'lift', 'offer', 'highest', 'will', 'bow', 'morient', 'like', 'liverpool', 'pleas', 'club', 'statur', 'want', 'buy', 'told', 'madrid', 'want', 'know', 'situat', 'know', 'must', 'someth', 'they', 'must', 'sort', 'situat', 'posit', 'want', 'look', 'elsewher', 'madrid', 'want', 'best', 'interest', 'everyon', 'spoken', 'rafa', 'benitez', 'alway', 'appreci', 'work', 'would', 'like', 'play', 'but', 'benitez', 'could', 'yet', 'turn', 'attent', 'younger', 'anelka', 'morient', 'reluct', 'pledg', 'futur', 'anelka', 'previous', 'play', 'anfield', 'gerard', 'houllier', 'seal', 'perman', 'switch', 'manchest', 'blue', 'slam', 'blackburn', 'savag', 'birmingham', 'confirm', 'blackburn', 'made', 'bid', 'robbi', 'savag', 'manag', 'director', 'karen', 'bradi', 'call', 'rover', 'reportedli', 'offer', 'front', 'wale', 'fee', 'rise', 'but', 'bradi', 'told', 'the', 'sun', 'bid', 'wast', 'fax', 'paper', 'she', 'way', 'thing', 'go', 'could', 'affect', 'relationship', 'got', 'but', 'futur', 'birmingham', 'sourc', 'specul', 'sever', 'fan', 'criticis', 'perform', 'club', 'earlier', 'good', 'display', 'west', 'brom', 'aston', 'villa', 'impress', 'blue', 'crowd', 'gave', 'massiv', 'stand', 'ovat', 'came', 'saturday', 'fantast', 'even', 'though', 'criticis', 'number', 'recent', 'week', 'saturday', 'show', 'much', 'mean', 'say', 'transfer', 'two', 'creat', 'specul', 'phone', 'everi', 'nation', 'newspap', 'tri', 'buy', 'birmingham', 'manag', 'steve', 'bruce', 'insist', 'want', 'sell', 'lot', 'said', 'written', 'sav', 'terrif', 'birmingham', 'citi', 'last', 'two', 'half', 'fan', 'love', 'epitomis', 'work', 'they', 'like', 'peopl', 'like', 'mani', 'like', 'hell', 'sell', 'someon', 'gerrard', 'happi', 'anfield', 'liverpool', 'captain', 'steven', 'gerrard', 'reiter', 'desir', 'stay', 'anfield', 'win', 'trophi', 'the', 'england', 'midfield', 'determin', 'see', 'despit', 'report', 'interest', 'sign', 'season', 'anoth', 'two', 'lot', 'specul', 'club', 'captain', 'want', 'help', 'get', 'back', 'tabl', 'champion', 'leagu', 'gerrard', 'look', 'set', 'move', 'chelsea', 'summer', 'specul', 'switch', 'stamford', 'bridg', 'januari', 'transfer', 'window', 'rais', 'doubt', 'red', 'futur', 'said', 'want', 'club', 'prove', 'titl', 'challeng', 'near', 'futur', 'might', 'liverpool', 'boss', 'rafael', 'benitez', 'insist', 'gerrard', 'promis', 'want', 'stay', 'benitez', 'said', 'steven', 'sure', 'want', 'stay', 'said', 'said', 'want', 'win', 'want', 'medal', 'want', 'liverpool', 'thing', 'go', 'need', 'realli', 'think', 'want', 'stay', 'must', 'make', 'squad', 'stronger', 'gerrard', 'urg', 'anfield', 'board', 'sign', 'real', 'madrid', 'striker', 'fernando', 'morient', 'januari', 'transfer', 'alreadi', 'express', 'willing', 'come', 'gerrard', 'great', 'score', 'goal', 'cup', 'competit', 'also', 'champion', 'think', 'abl', 'play', 'europ', 'season', 'abl', 'get', 'hold', 'get', 'great', 'spanish', 'spanish', 'manag', 'got', 'three', 'four', 'spanish', 'player', 'help', 'settl', 'benitez', 'know', 'want', 'know', 'strengthen', 'squad', 'got', 'right', 'player', 'becom', 'avail', 'right', 'price', 'sure', 'would', 'certainli', 'nice', 'see', 'new', 'face', 'januari', 'freshen', 'thing']\n"
     ]
    }
   ],
   "source": [
    "import re\n",
    "import nltk\n",
    "from nltk.tokenize import word_tokenize,sent_tokenize\n",
    "from nltk.corpus import stopwords\n",
    "from nltk.stem.lancaster import LancasterStemmer\n",
    "from nltk.stem import PorterStemmer\n",
    "from collections import Counter\n",
    "from collections import defaultdict\n",
    "import os\n",
    "import os.path\n",
    "\n",
    "st=PorterStemmer()\n",
    "path = 'C:\\\\Users\\\\ret\\\\sport_2' \n",
    "files = os.listdir(path)\n",
    "os.chdir(path)\n",
    "files_txt = [i for i in files if i.endswith('.txt')]\n",
    "a=[]\n",
    "#print (len(files_txt))\n",
    "for x in range(0,len(files_txt)):\n",
    "        MyFile=open(files_txt[x],'r')\n",
    "        for y in MyFile.read().split():\n",
    "            a+=[y]\n",
    "\n",
    "read_data=filter(str.isalnum,a) \n",
    "stop_words=set(stopwords.words(\"english\"))\n",
    "#filtered_sentence=[]word_list\n",
    "filtered_sentence=[w for w in read_data if not w in stop_words]\n",
    "\n",
    "save_path = 'C:\\\\Users\\\\ret'\n",
    "#name_of_file = 'sports_corpus_2'\n",
    "#completeName = os.path.join(save_path, name_of_file+\".txt\")         \n",
    "#fh1 = open(completeName, \"w\")\n",
    "os.chdir(save_path)\n",
    "fh1=open(\"sports_corpus_2.txt\",\"w\")\n",
    "#a=[]\n",
    "    \n",
    "filtered_sentence=[item.lower() for item in filtered_sentence]\n",
    "filtered_sentence=[x for x in filtered_sentence if not x.isdigit()]\n",
    "    \n",
    "    \n",
    "for words in filtered_sentence:\n",
    "    if ( len(words)==1 ) :\n",
    "        filtered_sentence.remove(words)\n",
    "for x in filtered_sentence:\n",
    "    if ( len(x)==2 ) :\n",
    "        filtered_sentence.remove(x)\n",
    "        \n",
    "filtered_sentence=[st.stem(f) for f in filtered_sentence]       \n",
    "for w in  filtered_sentence:\n",
    "    fh1.write(w+' ')\n",
    "print((filtered_sentence) )   \n"
   ]
  },
  {
   "cell_type": "code",
   "execution_count": null,
   "metadata": {
    "collapsed": true
   },
   "outputs": [],
   "source": []
  }
 ],
 "metadata": {
  "kernelspec": {
   "display_name": "Python 3",
   "language": "python",
   "name": "python3"
  },
  "language_info": {
   "codemirror_mode": {
    "name": "ipython",
    "version": 3
   },
   "file_extension": ".py",
   "mimetype": "text/x-python",
   "name": "python",
   "nbconvert_exporter": "python",
   "pygments_lexer": "ipython3",
   "version": "3.5.1"
  }
 },
 "nbformat": 4,
 "nbformat_minor": 0
}
