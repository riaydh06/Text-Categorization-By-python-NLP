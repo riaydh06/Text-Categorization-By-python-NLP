{
 "cells": [
  {
   "cell_type": "code",
   "execution_count": 3,
   "metadata": {
    "collapsed": false
   },
   "outputs": [
    {
     "name": "stdout",
     "output_type": "stream",
     "text": [
      "['galleri', 'unveil', 'interact', 'tree', 'christma', 'tree', 'receiv', 'text', 'messag', 'unveil', 'tate', 'britain', 'art', 'the', 'spruce', 'antenna', 'receiv', 'bluetooth', 'text', 'sent', 'visitor', 'the', 'messag', 'sculptor', 'richard', 'respons', 'decor', 'tree', 'broken', 'plate', 'light', '17th', 'year', 'galleri', 'invit', 'artist', 'dress', 'christma', 'artist', 'decor', 'tate', 'tree', 'previou', 'year', 'includ', 'tracey', 'emin', 'the', 'plain', 'green', 'norway', 'spruce', 'display', 'it', 'light', 'bulb', 'adorn', 'ordinari', 'domest', 'one', 'join', 'togeth', 'the', 'plate', 'decor', 'branch', 'auction', 'chariti', 'wentworth', 'work', 'assist', 'sculptor', 'henri', 'moor', 'late', 'hi', 'reput', 'sculptor', 'grew', 'one', 'influenti', 'teacher', 'last', 'two', 'wentworth', 'also', 'known', 'photographi', 'everyday', 'subject', 'cigarett', 'packet', 'jam', 'wonki', 'leg', 'jarr', 'join', 'fairytal', 'celebr', 'french', 'musician', 'jarr', 'perform', 'concert', 'copenhagen', 'mark', 'bicentenni', 'birth', 'writer', 'han', 'christian', 'denmark', 'hold', 'celebr', 'life', 'concert', 'parken', 'stadium', 'other', 'star', 'expect', 'join', 'come', 'danish', 'royal', 'famili', 'fairi', 'tale', 'timeless', 'said', 'age', 'alway', 'beyond', 'pure', 'enjoy', 'tale', 'messag', 'there', 'celebr', 'plan', 'across', 'world', 'celebr', 'andersen', 'includ', 'the', 'new', 'cloth', 'the', 'littl', 'crown', 'princ', 'frederik', 'crown', 'princess', 'mari', 'visit', 'new', 'york', 'monday', 'help', 'promot', 'the', 'pair', 'manhattan', 'librari', 'honour', 'literari', 'critic', 'harold', 'bloom', 'intern', 'icon', 'thought', 'knew', 'recogn', 'darker', 'aspect', 'princ', 'frederik', 'bloom', 'formal', 'present', 'han', 'christian', 'andersen', 'award', 'spring', 'hometown', 'the', 'royal', 'coupl', 'also', 'visit', 'han', 'christian', 'anderson', 'school', 'queen', 'mari', 'read', 'the', 'ugli', 'duckl', 'young', 'later', 'gala', 'danish', 'supermodel', 'helena', 'christensen', 'name', 'han', 'christian', 'andersen', 'other', 'ambassador', 'includ', 'actor', 'harvey', 'keitel', 'sir', 'roger', 'athlet', 'cathi', 'freeman', 'brazilian', 'soccer', 'legend', 'music', 'treatment', 'capra', 'film', 'the', 'classic', 'film', 'wonder', 'life', 'turn', 'music', 'produc', 'controversi', 'hit', 'show', 'jerri', 'springer', 'the', 'frank', 'movi', 'star', 'jame', 'turn', 'music', 'produc', 'jon', 'work', 'steve', 'wrote', 'music', 'spend', 'spend', 'spokeswoman', 'said', 'plan', 'earli', 'open', 'date', 'theatr', 'seri', 'workshop', 'held', 'wednesday', 'cast', 'singer', 'unveil', 'music', 'select', 'group', 'potenti', 'thoday', 'said', 'idea', 'turn', 'film', 'music', 'ambit', 'almost', 'wonder', 'life', 'base', 'short', 'the', 'greatest', 'philip', 'van', 'doren', 'thoday', 'manag', 'buy', 'right', 'stori', 'van', 'doren', 'famili', 'follow', 'success', 'spend', 'spend', 'later', 'secur', 'film', 'right', 'enabl', 'use', 'titl', 'wonder', 'richard', 'judi', 'choos', 'top', 'book', 'the', 'author', 'shortlist', 'richard', 'judi', 'book', 'award', 'hope', 'boost', 'sale', 'follow', 'success', 'the', 'interest', 'book', 'world', 'coin', 'term', 'richard', 'judi', 'creat', 'top', 'two', 'paperback', 'the', 'finalist', 'includ', 'andrew', 'the', 'american', 'boy', 'robbi', 'autobiographi', 'thi', 'alic', 'the', 'love', 'sold', 'one', 'joseph', 'star', 'sea', 'came', 'second', 'saw', 'sale', 'increas', 'the', 'best', 'read', 'richard', 'madeley', 'judi', 'channel', 'part', 'british', 'book', 'david', 'cloud', 'make', 'top', 'along', 'sever', 'lesser', 'known', 'doubt', 'select', 'book', 'club', 'entri', 'best', 'choic', 'even', 'wider', 'last', 'said', 'hard', 'follow', 'last', 'extrem', 'success', 'think', 'book', 'even', 'said', 'richard', 'judi', 'execut', 'produc', 'amanda', 'spoil', 'choic', 'tough', 'get', 'poppin', 'music', 'get', 'fli', 'start', 'the', 'stage', 'adapt', 'film', 'mari', 'poppin', 'open', 'night', 'west', 'sir', 'cameron', 'lavish', 'cost', 'bring', 'given', 'stand', 'lead', 'actress', 'laura', 'michel', 'kelli', 'soar', 'head', 'audienc', 'hold', 'trademark', 'technic', 'hitch', 'prevent', 'mari', 'flight', 'auditorium', 'preview', 'number', 'celebr', 'turn', 'includ', 'actress', 'barbara', 'comic', 'graham', 'norton', 'sir', 'richard', 'the', 'director', 'richard', 'eyr', 'issu', 'warn', 'earlier', 'week', 'show', 'unsuit', 'children', 'mari', 'poppin', 'origin', 'creat', 'author', 'pamela', 'said', 'cri', 'saw', 'film', 'star', 'juli', 'traver', 'intend', 'stori', 'lot', 'darker', 'perenni', 'famili', 'theatr', 'impresario', 'sir', 'cameron', 'mackintosh', 'said', 'hope', 'music', 'blend', 'film', 'origin', 'arthur', 'king', 'bestsel', 'novelist', 'arthur', 'die', 'age', 'known', 'bestsel', 'explor', 'inner', 'work', 'variou', 'hotel', 'high', 'born', 'april', 'hailey', 'child', 'work', 'class', 'they', 'could', 'afford', 'keep', 'school', 'beyond', 'age', 'serv', 'pilot', 'royal', 'air', 'forc', 'world', 'war', 'fli', 'fighter', 'plane', 'middl', 'occup', 'later', 'featur', 'authori', 'televis', 'screenplay', 'flight', 'hailey', 'emigr', 'canada', 'eventu', 'becam', 'want', 'writer', 'earli', 'take', 'profession', 'inspir', 'write', 'first', 'screenplay', 'return', 'flight', 'fell', 'visualis', 'pilot', 'control', 'wonder', 'would', 'happen', 'got', 'could', 'fli', 'rusti', 'wartim', 'pilot', 'flown', 'nine', 'hailey', 'later', 'the', 'canadian', 'broadcast', 'corpor', 'bought', 'flight', 'danger', 'shown', 'april', 'later', 'memor', 'spoof', 'comedi', 'star', 'lesli', 'hailey', 'work', 'screenwrit', 'coupl', 'turn', 'went', 'produc', 'publish', 'languag', 'flight', 'danger', 'adapt', 'becom', 'first', 'runaway', 'the', 'final', 'diagnosi', 'high', 'place', 'achiev', 'popular', 'but', 'hollywood', 'came', 'the', 'hit', 'novel', 'took', 'four', 'year', 'stay', 'nation', 'list', 'full', 'turn', 'movi', 'later', 'adapt', 'glossi', 'soap', 'star', 'jame', 'airport', 'arguabl', 'remain', 'work', 'prompt', 'disast', 'movi', 'the', 'thriller', 'follow', 'event', 'ground', 'terrorist', 'board', 'airplan', 'the', 'book', 'adapt', 'hit', 'film', 'star', 'burt', 'lancast', 'harass', 'aiport', 'manag', 'dean', 'martin', 'womanis', 'alongsid', 'jean', 'seberg', 'jacquelin', 'testament', 'popular', 'fledgl', 'disast', 'genr', 'three', 'sequel', 'the', 'writer', 'known', 'painstak', 'research', 'profess', 'around', 'novel', 'draw', 'charact', 'real', 'take', 'three', 'year', 'produc', 'never', 'abl', 'write', 'quickli', 'i', 'never', 'move', 'nassau', 'wife', 'wheel', 'the', 'moneychang', 'overload', 'despit', 'lukewarm', 'respons', 'literari', 'hailey', 'height', 'fame', 'seventi', 'continu', 'attract', 'attent', 'hollywood', 'strong', 'blockbust', 'focus', 'pharmaceut', 'turn', 'film', 'star', 'sam', 'dougla', 'fairbank', 'panopli', 'former', 'soap', 'the', 'novel', 'detect', 'prove', 'final', 'age', 'decid', 'health', 'began', 'deterior', 'recent', 'twice', 'undergo', 'heart', 'suffer', 'stroke', 'two', 'month', 'die', 'sleep', 'dinner', 'wife', 'two', 'six', 'children', 'home', 'new', 'provid', 'wonder', 'hi', 'greatest', 'ambit', 'see', 'name', 'book', 'certainli', 'achiev', 'said', 'spark', 'head', 'world', 'booker', 'list', 'dame', 'muriel', 'spark', 'among', 'three', 'british', 'author', 'made', 'shortlist', 'inaugur', 'intern', 'booker', 'dori', 'less', 'ian', 'mcewan', 'also', 'mcewan', 'margaret', 'atwood', 'nomine', 'previous', 'won', 'main', 'booker', 'the', 'new', 'award', 'open', 'writer', 'nation', 'write', 'english', 'wide', 'the', 'prize', 'commend', 'author', 'bodi', 'work', 'instead', 'one', 'gabriel', 'garcia', 'saul', 'milan', 'kundera', 'john', 'updik', 'also', 'featur', 'list', 'world', 'literari', 'but', 'past', 'winner', 'regular', 'booker', 'salman', 'coetze', 'kazuo', 'ishiguro', 'fail', 'make', 'the', 'award', 'london', 'given', 'everi', 'two', 'reward', 'author', 'must', 'live', 'develop', 'overal', 'contribut', 'fiction', 'world', 'author', 'win', 'the', 'intern', 'award', 'start', 'respons', 'critic', 'booker', 'prize', 'open', 'british', 'commonwealth', 'margaret', 'atwood', 'saul', 'bellow', 'gabriel', 'garcia', 'marquez', 'gunter', 'grass', 'ismail', 'kadar', 'milan', 'kundera', 'stanislaw', 'lem', 'dori', 'less', 'ian', 'mcewan', 'naguib', 'mahfouz', 'toma', 'eloy', 'martinez', 'kenzaburo', 'cynthia', 'ozick', 'philip', 'roth', 'muriel', 'spark', 'antonio', 'tabucchi', 'john', 'updik', 'abraham', 'yehoshua', 'versac', 'art', 'portfolio', 'sale', 'the', 'art', 'collect', 'murder', 'fashion', 'design', 'gianni', 'versac', 'could', 'fetch', 'auction', 'new', 'york', 'london', 'later', 'among', 'pictur', 'sale', 'work', 'roy', 'andi', 'warhol', 'henri', 'the', 'collect', 'hous', 'new', 'york', 'the', 'design', 'shot', 'outsid', 'florida', 'home', 'suspect', 'serial', 'killer', 'andrew', 'later', 'kill', 'the', 'featur', 'impressionist', '19th', 'centuri', 'one', 'highlight', 'sale', 'roy', 'blue', 'nude', 'given', 'estim', 'tobia', 'worldwid', 'head', 'contemporari', 'collect', 'reflect', 'tast', 'impecc', 'mani', 'work', 'commiss', 'directli', 'later', 'exampl', 'champion', 'pop', 'roy', 'juxtapos', 'masterpiec', 'visibl', 'artist', 'includ', 'basquiat', 'collabor', 'geniu', 'basquiat', 'well', 'francesco', 'much', 'collect', 'offer', 'sale', 'three', 'auction', 'new', 'york', 'smaller', 'contemporari', 'paint', 'go', 'hammer', 'london', 'sale', 'furnitur', 'artwork', 'sold', '2001fetch', 'slater', 'star', 'broadway', 'play', 'actor', 'christian', 'slater', 'step', 'role', 'tom', 'broadway', 'reviv', 'the', 'glass', 'replac', 'actor', 'dalla', 'robert', 'tennesse', 'william', 'open', 'next', 'reason', 'given', 'the', 'role', 'play', 'understudi', 'joey', 'collin', 'slater', 'join', 'slater', 'won', 'rave', 'review', 'recent', 'perform', 'one', 'flew', 'over', 'nest', 'west', 'also', 'star', 'number', 'includ', 'robin', 'princ', 'thiev', 'recent', 'the', 'hollywood', 'preview', 'perform', 'the', 'glass', 'menageri', 'begin', 'new', 'ethel', 'barrymor', 'theatr', 'philip', 'spokesman', 'said', 'march', 'open', 'date', 'remain', 'the', 'direct', 'david', 'also', 'star', 'jessica', 'lang', 'domin', 'amanda', 'public', 'show', 'reynold', 'portrait', 'sir', 'joshua', 'portrait', 'omai', 'get', 'public', 'air', 'follow', 'fear', 'would', 'stay', 'hidden', 'export', 'the', 'tate', 'galleri', 'unsuccess', 'tri', 'buy', 'pictur', 'anonym', 'owner', 'ban', 'issu', 'prevent', 'paint', 'leav', 'the', '18th', 'centuri', 'paint', 'remain', 'storag', 'owner', 'agre', 'allow', 'part', 'the', 'exhibit', 'work', 'shown', 'tate', 'britain', 'joshua', 'the', 'creation', 'celebr', 'featur', 'sculptur', '18th', 'centuri', 'paint', 'famou', 'person', 'portrait', 'omai', 'fetch', 'second', 'highest', 'amount', 'british', 'paint', 'sold', 'auction', 'bought', 'london', 'dealer', 'sold', 'the', 'unnam', 'collector', 'want', 'take', 'bar', 'govern', 'histor', 'march', 'tate', 'manag', 'rais', 'fund', 'buy', 'portrait', 'owner', 'refus', 'sell', 'held', 'storag', 'the', 'portrait', 'young', 'man', 'dub', 'nobl', 'arriv', 'london', 'becam', 'darl', 'london', 'societi', 'invit', 'best', 'parti', 'peopl', 'fascin', 'exot', 'sir', 'joshua', 'paint', 'arriv', 'becam', 'famou', 'work', 'first', 'exhibit', 'royal', 'academi']\n"
     ]
    }
   ],
   "source": [
    "import re\n",
    "import nltk\n",
    "from nltk.tokenize import word_tokenize,sent_tokenize\n",
    "from nltk.corpus import stopwords\n",
    "from nltk.stem.lancaster import LancasterStemmer\n",
    "from nltk.stem import PorterStemmer\n",
    "from collections import Counter\n",
    "from collections import defaultdict\n",
    "import os\n",
    "import os.path\n",
    "\n",
    "st=PorterStemmer()\n",
    "path = 'C:\\\\Users\\\\ret\\\\entertainment_1' \n",
    "files = os.listdir(path)\n",
    "os.chdir(path)\n",
    "files_txt = [i for i in files if i.endswith('.txt')]\n",
    "a=[]\n",
    "#print (len(files_txt))\n",
    "for x in range(0,len(files_txt)):\n",
    "        MyFile=open(files_txt[x],'r')\n",
    "        for y in MyFile.read().split():\n",
    "            a+=[y]\n",
    "\n",
    "read_data=filter(str.isalnum,a) \n",
    "stop_words=set(stopwords.words(\"english\"))\n",
    "#filtered_sentence=[]word_list\n",
    "filtered_sentence=[w for w in read_data if not w in stop_words]\n",
    "\n",
    "save_path = 'C:\\\\Users\\\\ret'\n",
    "name_of_file = 'entertainment_corpus_1'\n",
    "completeName = os.path.join(save_path, name_of_file+\".txt\")         \n",
    "fh1 = open(completeName, \"w\")\n",
    "#fh1=open(\"file_corpus_sports.txt\",\"w\")\n",
    "#a=[]\n",
    "    \n",
    "filtered_sentence=[item.lower() for item in filtered_sentence]\n",
    "filtered_sentence=[x for x in filtered_sentence if not x.isdigit()]\n",
    "    \n",
    "    \n",
    "for words in filtered_sentence:\n",
    "    if ( len(words)==1 ) :\n",
    "        filtered_sentence.remove(words)\n",
    "for x in filtered_sentence:\n",
    "    if ( len(x)==2 ) :\n",
    "        filtered_sentence.remove(x)\n",
    "        \n",
    "filtered_sentence=[st.stem(f) for f in filtered_sentence]       \n",
    "for w in  filtered_sentence:\n",
    "    fh1.write(w+' ')\n",
    "print((filtered_sentence) )   "
   ]
  },
  {
   "cell_type": "code",
   "execution_count": 1,
   "metadata": {
    "collapsed": false
   },
   "outputs": [
    {
     "name": "stdout",
     "output_type": "stream",
     "text": [
      "['dame', 'alicia', 'markova', 'dame', 'alicia', 'die', 'bath', 'age', 'first', 'prima', 'ballerina', 'modern', 'greatest', 'western', 'she', 'born', 'lilian', 'alicia', 'mark', 'london', 'her', 'parent', 'comfort', 'mine', 'drove', 'roll', 'when', 'mother', 'took', 'decis', 'chang', 'fear', 'flat', 'feet', 'weak', 'arrang', 'ballet', 'veri', 'quickli', 'becam', 'appar', 'someth', 'she', 'spot', 'russian', 'artist', 'sergei', 'want', 'danc', 'ballet', 'she', 'becam', 'ill', 'diphtheria', 'kept', 'gover', 'join', 'diaghilev', 'mont', 'carlo', 'from', 'tour', 'play', 'top', 'diaghilev', 'chang', 'name', 'without', 'even', 'consult', 'her', 'life', 'one', 'great', 'peopl', 'matiss', 'stravinski', 'becam', 'like', 'uncl', 'latter', 'put', 'charg', 'music', 'soon', 'death', 'alicia', 'markova', 'return', 'england', 'becam', 'first', 'intern', 'she', 'help', 'launch', 'ballet', 'club', 'mercuri', 'theatr', 'ballet', 'vic', 'well', 'anton', 'ballet', 'she', 'also', 'began', 'work', 'young', 'choreograph', 'anthoni', 'tudor', 'frederick', 'ashton', 'becam', 'huge', 'influenc', 'direct', 'ballet', 'her', 'version', 'light', 'still', 'consid', 'among', 'finest', 'she', 'also', 'outstand', 'the', 'die', 'she', 'one', 'first', 'british', 'ballerina', 'take', 'major', 'part', 'le', 'help', 'popularis', 'ballet', 'britain', 'alicia', 'markova', 'spent', 'world', 'war', 'unit', 'state', 'ballet', 'play', 'huge', 'she', 'even', 'appear', 'hollywood', 'back', 'anton', 'dolin', 'jointli', 'establish', 'festiv', 'she', 'retir', 'leg', 'creat', 'made', 'new', 'career', 'she', 'also', 'travel', 'world', 'direct', 'ballet', 'compani', 'put', 'she', 'becam', 'director', 'ballet', 'metropolitan', 'opera', 'ballet', 'new', 'year', 'professor', 'ballet', 'perform', 'art', 'univers', 'critic', 'said', 'dame', 'alicia', 'gave', 'illus', 'move', 'weight', 'get', 'fear', 'rais', 'ballet', 'futur', 'fewer', 'children', 'follow', 'dainti', 'footstep', 'dancer', 'like', 'darcey', 'carv', 'potenti', 'career', 'ballet', 'new', 'research', 'royal', 'academi', 'danc', 'found', 'fewer', 'children', 'age', 'attend', 'ballet', 'class', 'take', 'exam', 'the', 'organis', 'blame', 'grow', 'popular', 'comput', 'game', 'chang', 'and', 'fear', 'trend', 'could', 'fewer', 'british', 'ballet', 'star', 'the', 'rad', 'found', 'number', 'youngster', 'take', 'ballet', 'exam', 'drop', 'almost', 'age', 'danc', 'teacher', 'eve', 'taught', 'ballet', 'told', 'bbc', 'news', 'seen', 'chang', 'she', 'blame', 'modern', 'lifestyl', 'fall', 'ballet', 'think', 'children', 'mani', 'year', 'ago', 'mani', 'troubl', 'wide', 'open', 'gameboy', 'everyth', 'els', 'children', 'less', 'time', 'spent', 'ballet', 'hazel', 'inform', 'manag', 'gave', 'ballet', 'age', 'typic', 'cool', 'thing', 'school', 'think', 'focus', 'ballet', 'want', 'carri', 'use', 'love', 'certain', 'age', 'becom', 'much', 'disciplin', 'want', 'start', 'get', 'like', 'swim', 'ballet', 'someth', 'want', 'run', 'danc', 'school', 'admit', 'would', 'revers', 'trend', 'said', 'mani', 'young', 'ballet', 'dancer', 'longer', 'will', 'make', 'sacrific', 'dedic', 'career', 'got', 'realli', 'want', 'hard', 'day', 'got', 'time', 'spend', 'perfect', 'two', 'princip', 'dancer', 'royal', 'ballet', 'darcey', 'bussel', 'jonathan', 'cope', 'compar', 'princip', 'but', 'spokesman', 'english', 'nation', 'ballet', 'told', 'bbc', 'news', 'although', 'two', 'princip', 'dancer', 'around', 'quarter', 'dancer', 'said', 'competit', 'open', 'audit', 'london', 'talent', 'dancer', 'the', 'rad', 'launch', 'new', 'competit', 'tri', 'revers', 'declin', 'british', 'dame', 'antoinett', 'presid', 'launch', 'fonteyn', 'nureyev', 'young', 'dancer', 'competit', 'earlier', 'aim', 'children', 'age', 'hope', 'contest', 'help', 'keep', 'british', 'ballet', 'spokeswoman', 'rad', 'respons', 'passion', 'nurtur', 'young', 'dancer', 'futur', 'need', 'provid', 'framework', 'goal', 'work', 'constant', 'support', 'coach', 'environ', 'work', 'peer', 'possibl', 'lead', 'artist', 'importantli', 'provid', 'opportun', 'experi', 'better', 'way', 'reignit', 'passion', 'ballet', 'let', 'experi', 'thrill', 'fame', 'music', 'director', 'viotti', 'die', 'conductor', 'marcello', 'director', 'famou', 'fenic', 'die', 'germani', 'director', 'fenic', 'sinc', 'conduct', 'renown', 'opera', 'hous', 'worldwid', 'includ', 'scala', 'vienna', 'state', 'hi', 'time', 'fenic', 'coincid', 'reopen', 'destroy', 'fire', 'fell', 'coma', 'suffer', 'stroke', 'rehears', 'jule', 'manon', 'last', 'conduct', 'best', 'orchestra', 'world', 'includ', 'berlin', 'philharmon', 'english', 'chamber', 'viotti', 'born', 'switzerland', 'studi', 'cello', 'sing', 'lausann', 'hi', 'career', 'breakthrough', 'came', 'won', 'first', 'prize', 'gino', 'marinuzzi', 'conduct', 'competit', 'viotti', 'establish', 'chief', 'conductor', 'turin', 'opera', 'went', 'becom', 'chief', 'conductor', 'radio', 'fenic', 'viotti', 'wide', 'acclaim', 'product', 'french', 'compos', 'thai', 'product', 'includ', 'giusepp', 'traviata', 'richard', 'ariadn', 'auf', 'the', 'last', 'opera', 'direct', 'fenic', 'roi', 'debut', 'new', 'metropolitan', 'opera', 'came', 'giacomo', 'madam', 'follow', 'la', 'traviata', 'froment', 'la', 'giampaolo', 'superintend', 'fenic', 'theatr', 'fill', 'extrem', 'sad', 'great', 'miss', 'friend', 'main', 'charact', 'latest', 'joyou', 'rebirth', 'last', 'public', 'perform', 'februari', 'conduct', 'vincenzo', 'norma', 'vienna', 'state', 'paraguay', 'novel', 'win', 'book', 'prize', 'novel', 'set', '19th', 'centuri', 'paraguay', 'won', 'fiction', 'prize', 'nation', 'book', 'lili', 'the', 'news', 'from', 'paraguay', 'fictionalis', 'tale', 'paraguayan', 'leader', 'francisco', 'solano', 'lopez', 'irish', 'but', 'annual', 'present', 'new', 'york', 'without', 'author', 'judi', 'given', 'honourari', 'use', 'ceremoni', 'speak', 'sale', 'book', 'exceed', 'work', 'featur', 'frank', 'narr', 'religion', 'sexual', 'close', 'watch', 'blume', 'urg', 'ban', 'spread', 'like', 'wildfir', 'commun', 'pleas', 'speak', 'censor', 'hate', 'her', 'medal', 'mark', 'second', 'year', 'row', 'honourari', 'prize', 'went', 'someon', 'notabl', 'popular', 'success', 'literari', 'last', 'honorari', 'stephen', 'accus', 'industri', 'ceremoni', 'snobberi', 'popular', 'but', 'argument', 'award', 'help', 'sell', 'book', 'instead', 'honour', 'excel', 'share', 'thi', 'fiction', 'panel', 'overlook', 'work', 'philip', 'the', 'plot', 'against', 'america', 'instead', 'chose', 'five', 'new', 'one', 'fiction', 'stewart', 'carri', 'around', 'note', 'written', 'napkin', 'would', 'hope', 'care', 'qualiti', 'work', 'sale', 'figur', 'make', 'friend', 'the', 'nation', 'book', 'award', 'prize', 'award', 'kevin', 'arc', 'focus', 'black', 'fight', 'live', 'white', 'detroit', 'neighbourhood', 'the', 'award', 'creat', 'lot', 'interest', 'year', 'surpris', 'inclus', 'commiss', 'report', 'look', 'event', 'septemb', 'terrorist', 'attack', 'pete', 'hautman', 'won', 'young', 'literatur', 'prize', 'novel', 'the', 'winner', 'poetri', 'categori', 'jean', 'valentin', 'door', 'new', 'collect', 'critic', 'laud', 'comedi', 'sideway', 'road', 'trip', 'comedi', 'sideway', 'prais', 'heap', 'two', 'ad', 'honour', 'alreadi', 'pick', 'the', 'chicago', 'film', 'critic', 'associ', 'name', 'winner', 'five', 'categori', 'includ', 'best', 'film', 'best', 'actor', 'paul', 'but', 'director', 'award', 'went', 'clint', 'eastwood', 'million', 'dollar', 'the', 'southeastern', 'film', 'critic', 'also', 'award', 'sideway', 'best', 'film', 'year', 'director', 'alexand', 'payn', 'name', 'best', 'also', 'won', 'best', 'screenplay', 'share', 'jim', 'the', 'cfca', 'award', 'thoma', 'haden', 'church', 'best', 'support', 'actor', 'prize', 'virginia', 'madsen', 'best', 'support', 'actress', 'award', 'role', 'sideway', 'alreadi', 'vote', 'best', 'film', 'critic', 'associ', 'new', 'york', 'lo', 'angel', 'nomin', 'golden', 'british', 'actress', 'imelda', 'staunton', 'won', 'cfca', 'best', 'actress', 'gritti', 'abort', 'drama', 'vera', 'ad', 'grow', 'list', 'award', 'won', 'perform', 'mike', 'leigh', 'scrub', 'star', 'zach', 'braff', 'name', 'best', 'new', 'director', 'debut', 'garden', 'michael', 'controversi', 'documentari', 'fahrenheit', 'won', 'best', 'veri', 'long', 'engag', 'won', 'best', 'foreign', 'the', 'chicago', 'critic', 'yet', 'name', 'date', 'award', 'ceremoni', 'dirti', 'demis', 'seen', '14m', 'more', 'million', 'peopl', 'saw', 'den', 'watt', 'kill', 'mark', '20th', 'accord', 'unoffici', 'death', 'came', 'year', 'supposedli', 'shot', 'but', 'came', 'back', 'show', 'septemb', 'the', 'audienc', 'bbc', 'special', 'averag', 'million', 'peak', 'million', 'last', 'overnight', 'figur', 'den', 'die', 'confront', 'chrissi', 'sam', 'queen', 'rate', 'episod', 'given', 'soap', 'highest', 'audienc', 'the', 'overnight', 'figur', 'show', 'almost', 'view', 'public', 'tune', 'eastend', 'leav', 'itv1', 'pleas', 'bbc', 'spokesman', 'show', 'viewer', 'realli', 'enjoy', 'stori', 'the', 'highest', 'audienc', 'came', 'christma', 'million', 'tune', 'see', 'play', 'lesli', 'hand', 'divorc', 'paper', 'wife', 'two', 'year', 'million', 'saw', 'appar', 'shot', 'man', 'bunch', 'daffodil', 'more', 'million', 'viewer', 'watch', 'return', 'the', 'rate', 'sinc', 'settl', 'million', 'per', 'grantham', 'hit', 'headlin', 'may', 'newspap', 'print', 'photograph', 'appar', 'expos', 'via', 'webcam', 'dress', 'also', 'allegedli', 'insult', 'four', 'apologis', 'vision', 'sundanc', 'despit', 'sport', 'corduroy', 'cap', 'pull', 'low', 'face', 'plu', 'pair', 'dark', 'robert', 'redford', 'cut', 'unmistak', 'figur', 'crowd', 'rare', 'downtown', 'appear', 'man', 'start', 'annual', 'festiv', 'park', 'utah', 'back', 'now', 'sundanc', 'continu', 'some', 'peopl', 'estim', 'descend', 'small', 'ski', 'town', 'noth', 'movi', 'opportun', 'meet', 'make', 'redford', 'want', 'sundanc', 'platform', 'independ', 'commerci', 'success', 'mani', 'showcas', 'film', 'led', 'critic', 'festiv', 'becom', 'smaller', 'festiv', 'like', 'slamdanc', 'take', 'place', 'week', 'park', 'compet', 'but', 'redford', 'point', 'creat', 'opportun', 'peopl', 'may', 'independ', 'film', 'place', 'work', 'could', 'suddenli', 'merchant', 'with', 'celebr', 'paparazzi', 'suddenli', 'began', 'take', 'whole', 'new', 'explain', 'start', 'say', 'gone', 'mainstream', 'actual', 'hollywood', 'came', 'suddenli', 'good', 'busi', 'independ', 'intern', 'alway', 'celebr', 'first', 'year', 'dedic', 'world', 'dramat', 'documentari', 'competit', 'redford', 'want', 'festiv', 'encompass', 'viewpoint', 'believ', 'american', 'media', 'fail', 'particularli', 'perceiv', 'never', 'hidden', 'fact', 'but', 'reserv', 'particular', 'disdain', 'current', 'republican', 'abil', 'maintain', 'import', 'dissent', 'democrat', 'system', 'right', 'threat', 'attitud', 'think', 'mani', 'voic', 'shut', 'accus', 'unpatriot', 'want', 'express', 'anoth', 'point', 'unhealthi', 'take', 'polici', 'victim', 'sundanc', 'one', 'big', 'there', 'discuss', 'panel', 'session', 'director', 'tackl', 'controversi', 'topic', 'like', 'iraq', 'while', 'redford', 'wish', 'festiv', 'forum', 'profil', 'audienc', 'fairli', 'middl', 'class', 'predominantli', 'white', 'american', 'come', 'view', 'end', 'polit', 'spectrum', 'social', 'but', 'redford', 'know', 'start', 'sundanc', 'channel', 'effort', 'reach', 'wider', 'look', 'film', 'present', 'much', 'and', 'good', 'film', 'good', 'african', 'later', 'away', 'stereotyp', 'label', 'peopl', 'say', 'film', 'star', 'gear', 'bafta', 'ceremoni', 'film', 'star', 'across', 'globe', 'prepar', 'walk', 'red', 'carpet', 'bafta', 'award', 'the', 'orang', 'british', 'academi', 'film', 'award', 'held', 'the', 'odeon', 'leicest', 'host', 'hollywood', 'includ', 'cate', 'leonardo', 'keanu', 'reev', 'richard', 'expect', 'attend', 'host', 'stephen', 'glitter', 'ceremoni', 'broadcast', 'bbc', 'one', 'other', 'actor', 'expect', 'add', 'glamour', 'biggest', 'night', 'film', 'gael', 'garcia', 'imelda', 'dian', 'christian', 'anjelica', 'helen', 'mirren', 'former', 'jame', 'bond', 'star', 'pierc', 'hollywood', 'blockbust', 'the', 'star', 'lead', 'field', 'includ', 'best', 'etern', 'sunshin', 'spotless', 'find', 'the', 'motorcycl', 'diari', 'british', 'film', 'vera', 'british', 'hope', 'imelda', 'staunton', 'one', 'favourit', 'land', 'best', 'actress', 'award', 'gritti', 'role', 'backstreet', 'abortionist', 'other', 'nomine', 'best', 'actress', 'categori', 'includ', 'charliz', 'theron', 'ziyi', 'zhang', 'hous', 'fli', 'dagger', 'star', 'kate', 'two', 'nod', 'role', 'etern', 'sunshin', 'spotless', 'mind', 'find', 'dicaprio', 'face', 'competit', 'jami', 'jim', 'carrey', 'johnni', 'depp', 'best', 'actor', 'and', 'british', 'actor', 'clive', 'owen', 'hope', 'repeat', 'golden', 'globe', 'success', 'best', 'support', 'actor', 'award', 'role', 'hi', 'natali', 'portman', 'heather', 'juli', 'cristi', 'meryl', 'streep', 'best', 'support', 'actress', 'mike', 'leigh', 'best', 'director', 'award', 'vera', 'alongsid', 'martin', 'scorses', 'the', 'michael', 'mann', 'michel', 'gondri', 'etern', 'sunshin', 'spotless', 'mind', 'marc', 'forster', 'find', 'aviat', 'oscar', 'snub', 'the', 'man', 'said', 'got', 'movi', 'the', 'aviat', 'ground', 'sign', 'leonardo', 'dicaprio', 'shut', 'academi', 'award', 'charl', 'evan', 'battl', 'role', 'peopl', 'eventu', 'made', 'won', 'but', 'list', 'produc', 'win', 'best', 'film', 'oscar', 'due', 'limit', 'number', 'the', 'oscar', 'organis', 'pick', 'two', 'the', 'four', 'produc', 'nomin', 'best', 'three', 'produc', 'name', 'per', 'film', 'studio', 'behind', 'the', 'aviat', 'million', 'dollar', 'babi', 'fail', 'trim', 'credit', 'academi', 'motion', 'pictur', 'art', 'scienc', 'done', 'the', 'nomin', 'produc', 'michael', 'mann', 'graham', 'king', 'evan', 'sandi', 'former', 'left', 'evan', 'su', 'mann', 'claim', 'came', 'spent', 'year', 'develop', 'persuad', 'dicaprio', 'play', 'hugh', 'said', 'later', 'exclud', 'the', 'two', 'side', 'settl', 'court', 'deal', 'remain', 'secret', 'apart', 'fact', 'name', 'appear', 'produc', 'credit', 'golden', 'evan', 'name', 'among', 'winner', 'film', 'won', 'best', 'drama', 'film', 'evad', 'secur', 'guard', 'photo', 'taken', 'director', 'martin', 'mann', 'ampa', 'decid', 'limit', 'number', 'produc', 'could', 'nomin', 'shakespear', 'victori', 'saw', 'five', 'produc', 'collect', 'the', 'elig', 'name', 'the', 'aviat', 'million', 'dollar', 'babi', 'decid', 'produc', 'branch', 'execut', 'committe', 'the', 'decis', 'also', 'saw', 'clint', 'eastwood', 'get', 'third', 'person', 'nomin', 'million', 'dollar', 'name', 'best', 'film', 'categori', 'well', 'nomin', 'best', 'director', 'best', 'lead', 'the', 'academi', 'award', 'ceremoni', 'held', 'hollywood', 'chines', 'actress', 'ziyi', 'star', 'crouch', 'hidden', 'hero', 'hous', 'fli', 'latest', 'name', 'ad', 'list', 'present', 'wine', 'comedi', 'six', 'film', 'gong', 'comedi', 'star', 'paul', 'six', 'independ', 'spirit', 'version', 'the', 'award', 'held', 'day', 'spanish', 'drama', 'maria', 'full', 'colombian', 'woman', 'becom', 'drug', 'got', 'five', 'controversi', 'biopic', 'star', 'liam', 'neeson', 'sex', 'research', 'alfr', 'one', 'four', 'film', 'get', 'four', 'the', '20th', 'honour', 'quirki', 'must', 'degre', 'independ', 'sideway', 'written', 'direct', 'alexand', 'direct', 'hit', 'about', 'win', 'jack', 'nicholson', '12th', 'academi', 'award', 'better', 'mean', 'said', 'sideway', 'produc', 'michael', 'ad', 'first', 'toward', 'get', 'recognit', 'among', 'film', 'receiv', 'four', 'nomin', 'apiec', 'brother', 'drama', 'young', 'gay', 'black', 'man', 'forc', 'live', 'rob', 'peter', 'tale', 'won', 'top', 'prize', 'sundanc', 'film', 'festiv', 'earlier', 'walter', 'sall', 'critic', 'acclaim', 'the', 'motorcycl', 'diari', 'forthcom', 'thriller', 'the', 'star', 'kevin', 'receiv', 'three', 'nomin', 'also', 'two', 'high', 'school', 'comedi', 'napoleon', 'the', 'door', 'floor', 'garden', 'state', 'direct', 'star', 'scrub', 'star', 'zach', 'braff', 'alongsid', 'natali', 'the', 'award', 'announc', 'actor', 'selma', 'blair', 'denni', 'quaid', 'lo', 'angel']\n"
     ]
    }
   ],
   "source": [
    "import re\n",
    "import nltk\n",
    "from nltk.tokenize import word_tokenize,sent_tokenize\n",
    "from nltk.corpus import stopwords\n",
    "from nltk.stem.lancaster import LancasterStemmer\n",
    "from nltk.stem import PorterStemmer\n",
    "from collections import Counter\n",
    "from collections import defaultdict\n",
    "import os\n",
    "import os.path\n",
    "\n",
    "st=PorterStemmer()\n",
    "path = 'C:\\\\Users\\\\ret\\\\entertainment_2' \n",
    "files = os.listdir(path)\n",
    "os.chdir(path)\n",
    "files_txt = [i for i in files if i.endswith('.txt')]\n",
    "a=[]\n",
    "#print (len(files_txt))\n",
    "for x in range(0,len(files_txt)):\n",
    "        MyFile=open(files_txt[x],'r')\n",
    "        for y in MyFile.read().split():\n",
    "            a+=[y]\n",
    "\n",
    "read_data=filter(str.isalnum,a) \n",
    "stop_words=set(stopwords.words(\"english\"))\n",
    "#filtered_sentence=[]word_list\n",
    "filtered_sentence=[w for w in read_data if not w in stop_words]\n",
    "\n",
    "save_path = 'C:\\\\Users\\\\ret'\n",
    "name_of_file = 'entertainment_corpus_2'\n",
    "completeName = os.path.join(save_path, name_of_file+\".txt\")         \n",
    "fh1 = open(completeName, \"w\")\n",
    "#fh1=open(\"file_corpus_sports.txt\",\"w\")\n",
    "#a=[]\n",
    "    \n",
    "filtered_sentence=[item.lower() for item in filtered_sentence]\n",
    "filtered_sentence=[x for x in filtered_sentence if not x.isdigit()]\n",
    "    \n",
    "    \n",
    "for words in filtered_sentence:\n",
    "    if ( len(words)==1 ) :\n",
    "        filtered_sentence.remove(words)\n",
    "for x in filtered_sentence:\n",
    "    if ( len(x)==2 ) :\n",
    "        filtered_sentence.remove(x)\n",
    "        \n",
    "filtered_sentence=[st.stem(f) for f in filtered_sentence]       \n",
    "for w in  filtered_sentence:\n",
    "    fh1.write(w+' ')\n",
    "print((filtered_sentence) )   "
   ]
  },
  {
   "cell_type": "code",
   "execution_count": null,
   "metadata": {
    "collapsed": true
   },
   "outputs": [],
   "source": []
  }
 ],
 "metadata": {
  "kernelspec": {
   "display_name": "Python 3",
   "language": "python",
   "name": "python3"
  },
  "language_info": {
   "codemirror_mode": {
    "name": "ipython",
    "version": 3
   },
   "file_extension": ".py",
   "mimetype": "text/x-python",
   "name": "python",
   "nbconvert_exporter": "python",
   "pygments_lexer": "ipython3",
   "version": "3.5.1"
  }
 },
 "nbformat": 4,
 "nbformat_minor": 0
}
