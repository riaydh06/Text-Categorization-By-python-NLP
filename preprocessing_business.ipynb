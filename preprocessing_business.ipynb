{
 "cells": [
  {
   "cell_type": "code",
   "execution_count": 5,
   "metadata": {
    "collapsed": false
   },
   "outputs": [
    {
     "ename": "IndexError",
     "evalue": "list assignment index out of range",
     "output_type": "error",
     "traceback": [
      "\u001b[1;31m---------------------------------------------------------------------------\u001b[0m",
      "\u001b[1;31mIndexError\u001b[0m                                Traceback (most recent call last)",
      "\u001b[1;32m<ipython-input-5-47926b3f4590>\u001b[0m in \u001b[0;36m<module>\u001b[1;34m()\u001b[0m\n\u001b[0;32m     16\u001b[0m \u001b[0mfiles_txt\u001b[0m \u001b[1;33m=\u001b[0m \u001b[1;33m[\u001b[0m\u001b[0mi\u001b[0m \u001b[1;32mfor\u001b[0m \u001b[0mi\u001b[0m \u001b[1;32min\u001b[0m \u001b[0mfiles\u001b[0m \u001b[1;32mif\u001b[0m \u001b[0mi\u001b[0m\u001b[1;33m.\u001b[0m\u001b[0mendswith\u001b[0m\u001b[1;33m(\u001b[0m\u001b[1;34m'.txt'\u001b[0m\u001b[1;33m)\u001b[0m\u001b[1;33m]\u001b[0m\u001b[1;33m\u001b[0m\u001b[0m\n\u001b[0;32m     17\u001b[0m \u001b[0ma\u001b[0m\u001b[1;33m=\u001b[0m\u001b[1;33m[\u001b[0m\u001b[1;33m]\u001b[0m\u001b[1;33m\u001b[0m\u001b[0m\n\u001b[1;32m---> 18\u001b[1;33m \u001b[0ma\u001b[0m\u001b[1;33m[\u001b[0m\u001b[1;36m0\u001b[0m\u001b[1;33m]\u001b[0m\u001b[1;33m=\u001b[0m\u001b[1;34m''\u001b[0m\u001b[1;33m\u001b[0m\u001b[0m\n\u001b[0m\u001b[0;32m     19\u001b[0m \u001b[1;31m#print (len(files_txt))\u001b[0m\u001b[1;33m\u001b[0m\u001b[1;33m\u001b[0m\u001b[0m\n\u001b[0;32m     20\u001b[0m \u001b[1;32mfor\u001b[0m \u001b[0mx\u001b[0m \u001b[1;32min\u001b[0m \u001b[0mrange\u001b[0m\u001b[1;33m(\u001b[0m\u001b[1;36m0\u001b[0m\u001b[1;33m,\u001b[0m\u001b[0mlen\u001b[0m\u001b[1;33m(\u001b[0m\u001b[0mfiles_txt\u001b[0m\u001b[1;33m)\u001b[0m\u001b[1;33m)\u001b[0m\u001b[1;33m:\u001b[0m\u001b[1;33m\u001b[0m\u001b[0m\n",
      "\u001b[1;31mIndexError\u001b[0m: list assignment index out of range"
     ]
    }
   ],
   "source": [
    "import re\n",
    "import nltk\n",
    "from nltk.tokenize import word_tokenize,sent_tokenize\n",
    "from nltk.corpus import stopwords\n",
    "from nltk.stem.lancaster import LancasterStemmer\n",
    "from nltk.stem import PorterStemmer\n",
    "from collections import Counter\n",
    "from collections import defaultdict\n",
    "import os\n",
    "import os.path\n",
    "\n",
    "st=PorterStemmer()\n",
    "path = 'C:\\\\Users\\\\ret\\\\business_1' \n",
    "files = os.listdir(path)\n",
    "os.chdir(path)\n",
    "files_txt = [i for i in files if i.endswith('.txt')]\n",
    "a=[]\n",
    "a[0]=''\n",
    "#print (len(files_txt))\n",
    "for x in range(0,len(files_txt)):\n",
    "        MyFile=open(files_txt[x],'r')\n",
    "        for y in MyFile.read().split():\n",
    "            a[0]+=y\n",
    "\n",
    "read_data=filter(str.isalnum,a) \n",
    "stop_words=set(stopwords.words(\"english\"))\n",
    "#filtered_sentence=[]word_list\n",
    "filtered_sentence=[w for w in read_data if not w in stop_words]\n",
    "\n",
    "save_path = 'C:\\\\Users\\\\ret'\n",
    "name_of_file = 'business_corpus_1'\n",
    "completeName = os.path.join(save_path, name_of_file+\".txt\")         \n",
    "fh1 = open(completeName, \"w\")\n",
    "#fh1=open(\"file_corpus_sports.txt\",\"w\")\n",
    "#a=[]\n",
    "    \n",
    "filtered_sentence=[item.lower() for item in filtered_sentence]\n",
    "filtered_sentence=[x for x in filtered_sentence if not x.isdigit()]\n",
    "    \n",
    "    \n",
    "for words in filtered_sentence:\n",
    "    if ( len(words)==1 ) :\n",
    "        filtered_sentence.remove(words)\n",
    "for x in filtered_sentence:\n",
    "    if ( len(x)==2 ) :\n",
    "        filtered_sentence.remove(x)\n",
    "filtered_sentence=[st.stem(f) for f in filtered_sentence]       \n",
    "for w in  filtered_sentence:\n",
    "    fh1.write(w+' ')\n",
    "print((filtered_sentence) )   "
   ]
  },
  {
   "cell_type": "code",
   "execution_count": 6,
   "metadata": {
    "collapsed": false
   },
   "outputs": [
    {
     "ename": "TypeError",
     "evalue": "Can't convert 'list' object to str implicitly",
     "output_type": "error",
     "traceback": [
      "\u001b[1;31m---------------------------------------------------------------------------\u001b[0m",
      "\u001b[1;31mTypeError\u001b[0m                                 Traceback (most recent call last)",
      "\u001b[1;32m<ipython-input-6-a66b3c6f72a5>\u001b[0m in \u001b[0;36m<module>\u001b[1;34m()\u001b[0m\n\u001b[0;32m     21\u001b[0m         \u001b[0mtemp\u001b[0m\u001b[1;33m=\u001b[0m\u001b[1;34m''\u001b[0m\u001b[1;33m\u001b[0m\u001b[0m\n\u001b[0;32m     22\u001b[0m         \u001b[1;32mfor\u001b[0m \u001b[0my\u001b[0m \u001b[1;32min\u001b[0m \u001b[0mMyFile\u001b[0m\u001b[1;33m.\u001b[0m\u001b[0mread\u001b[0m\u001b[1;33m(\u001b[0m\u001b[1;33m)\u001b[0m\u001b[1;33m.\u001b[0m\u001b[0msplit\u001b[0m\u001b[1;33m(\u001b[0m\u001b[1;33m)\u001b[0m\u001b[1;33m:\u001b[0m\u001b[1;33m\u001b[0m\u001b[0m\n\u001b[1;32m---> 23\u001b[1;33m             \u001b[0mtemp\u001b[0m\u001b[1;33m+=\u001b[0m\u001b[1;33m[\u001b[0m\u001b[0my\u001b[0m\u001b[1;33m]\u001b[0m\u001b[1;33m\u001b[0m\u001b[0m\n\u001b[0m\u001b[0;32m     24\u001b[0m         \u001b[0ma\u001b[0m\u001b[1;33m.\u001b[0m\u001b[0mappend\u001b[0m\u001b[1;33m(\u001b[0m\u001b[0mtemp\u001b[0m\u001b[1;33m)\u001b[0m\u001b[1;33m\u001b[0m\u001b[0m\n\u001b[0;32m     25\u001b[0m \u001b[1;33m\u001b[0m\u001b[0m\n",
      "\u001b[1;31mTypeError\u001b[0m: Can't convert 'list' object to str implicitly"
     ]
    }
   ],
   "source": [
    "import re\n",
    "import nltk\n",
    "from nltk.tokenize import word_tokenize,sent_tokenize\n",
    "from nltk.corpus import stopwords\n",
    "from nltk.stem.lancaster import LancasterStemmer\n",
    "from nltk.stem import PorterStemmer\n",
    "from collections import Counter\n",
    "from collections import defaultdict\n",
    "import os\n",
    "import os.path\n",
    "\n",
    "st=PorterStemmer()\n",
    "path = 'C:\\\\Users\\\\ret\\\\business_2' \n",
    "files = os.listdir(path)\n",
    "os.chdir(path)\n",
    "files_txt = [i for i in files if i.endswith('.txt')]\n",
    "a=[]\n",
    "#print (len(files_txt))\n",
    "for x in range(0,len(files_txt)):\n",
    "        MyFile=open(files_txt[x],'r')\n",
    "        temp=''\n",
    "        for y in MyFile.read().split():\n",
    "            temp+=[y]\n",
    "        a.append(temp)\n",
    "\n",
    "read_data=filter(str.isalnum,a) \n",
    "stop_words=set(stopwords.words(\"english\"))\n",
    "#filtered_sentence=[]word_list\n",
    "filtered_sentence=[w for w in read_data if not w in stop_words]\n",
    "\n",
    "save_path = 'C:\\\\Users\\\\ret'\n",
    "name_of_file = 'business_corpus_2'\n",
    "completeName = os.path.join(save_path, name_of_file+\".txt\")         \n",
    "fh1 = open(completeName, \"w\")\n",
    "#fh1=open(\"file_corpus_sports.txt\",\"w\")\n",
    "#a=[]\n",
    "    \n",
    "filtered_sentence=[item.lower() for item in filtered_sentence]\n",
    "filtered_sentence=[x for x in filtered_sentence if not x.isdigit()]\n",
    "    \n",
    "    \n",
    "for words in filtered_sentence:\n",
    "    if ( len(words)==1 ) :\n",
    "        filtered_sentence.remove(words)\n",
    "for x in filtered_sentence:\n",
    "    if ( len(x)==2 ) :\n",
    "        filtered_sentence.remove(x)\n",
    "        \n",
    "filtered_sentence=[st.stem(f) for f in filtered_sentence]       \n",
    "for w in  filtered_sentence:\n",
    "    fh1.write(w+' ')\n",
    "print((filtered_sentence) )   "
   ]
  },
  {
   "cell_type": "code",
   "execution_count": null,
   "metadata": {
    "collapsed": true
   },
   "outputs": [],
   "source": []
  }
 ],
 "metadata": {
  "anaconda-cloud": {},
  "celltoolbar": "Raw Cell Format",
  "kernelspec": {
   "display_name": "Python [Root]",
   "language": "python",
   "name": "Python [Root]"
  },
  "language_info": {
   "codemirror_mode": {
    "name": "ipython",
    "version": 3
   },
   "file_extension": ".py",
   "mimetype": "text/x-python",
   "name": "python",
   "nbconvert_exporter": "python",
   "pygments_lexer": "ipython3",
   "version": "3.5.2"
  }
 },
 "nbformat": 4,
 "nbformat_minor": 0
}
